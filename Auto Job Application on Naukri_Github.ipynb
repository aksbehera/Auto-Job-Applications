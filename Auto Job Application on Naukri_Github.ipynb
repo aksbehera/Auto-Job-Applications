{
 "cells": [
  {
   "cell_type": "markdown",
   "metadata": {},
   "source": [
    "IMPORT THE NECESSARY LIBRARIES"
   ]
  },
  {
   "cell_type": "code",
   "execution_count": null,
   "metadata": {
    "scrolled": true
   },
   "outputs": [],
   "source": [
    "# Importing the necessary libraries\n",
    "import selenium\n",
    "from selenium import webdriver as wb\n",
    "import pandas as pd\n",
    "import time\n",
    "from time import sleep\n",
    "from selenium.webdriver.support.ui import WebDriverWait\n",
    "from selenium.webdriver.common.by import By\n",
    "from selenium.webdriver.support import expected_conditions as EC"
   ]
  },
  {
   "cell_type": "markdown",
   "metadata": {},
   "source": [
    "CODES"
   ]
  },
  {
   "cell_type": "code",
   "execution_count": null,
   "metadata": {
    "scrolled": true
   },
   "outputs": [],
   "source": [
    "# Chaning the working directory to the path where the chromedriver is saved & setting up the chrome driver\n",
    "import time\n",
    "start_time = time.time()\n",
    "%cd \"PATH WHERE YOUR CHROMEDRIVER IS SAVED\"\n",
    "driver = wb.Chrome(\"PATH WHERE YOUR CHROMEDRIVER IS SAVED\\\\chromedriver.exe\")\n",
    "Skillset = ['Analysis','Python','SQL']\n",
    "Skillset = [x.lower() for x in Skillset]\n",
    "LL = 15\n",
    "UL = 25\n",
    "location = 'Bangalore'\n",
    "location = location.lower().replace(\" \",\"-\")\n",
    "role = 'Data Analyst'\n",
    "role = role.lower().replace(\" \",\"-\")\n",
    "driver.get(\"https://www.naukri.com/data-analyst-jobs-in-delhi-ncr?k=data%20analyst&l=delhi%2Fncr\")\n",
    "driver.find_element_by_xpath('//*[@id=\"login_Layer\"]/div').click()\n",
    "time.sleep(5)\n",
    "driver.find_element_by_xpath('//*[@id=\"root\"]/div[2]/div[2]/div/form/div[2]/input').send_keys('YOUR NAUKRI LOGIN ID')\n",
    "driver.find_element_by_xpath('//*[@id=\"root\"]/div[2]/div[2]/div/form/div[3]/input').send_keys('YOUR NAUKRI PASSWORD')\n",
    "time.sleep(5)\n",
    "driver.find_element_by_xpath('//*[@id=\"root\"]/div[2]/div[2]/div/form/div[6]/button').click()\n",
    "time.sleep(5)\n",
    "app = pd.DataFrame()\n",
    "\n",
    "for i in range(1,6):\n",
    "    try:\n",
    "        driver.get('https://www.naukri.com/'+role+'-jobs-in-'+location+'-'+str(i)+'?ctcFilter='+str(LL)+'to'+str(UL))\n",
    "    except:\n",
    "        driver.get('https://www.naukri.com/'+role+'-jobs-in-'+location+'?ctcFilter='+str(LL)+'to'+str(UL))\n",
    "\n",
    "    for i in range(1,20):\n",
    "        try:\n",
    "            WebDriverWait(driver, 20).until(EC.element_to_be_clickable((By.XPATH, '//*[@id=\"root\"]/div[3]/div[2]/section[2]/div[2]/article['+str(i)+']/div[1]/div[1]/a'))).click()\n",
    "        except:\n",
    "            WebDriverWait(driver, 20).until(EC.element_to_be_clickable((By.XPATH, '//*[@id=\"root\"]/div[3]/div[2]/section[2]/div[2]/article['+str(i)+']/div[1]/div/a'))).click()\n",
    "        driver.switch_to.window(driver.window_handles[1])\n",
    "        url = driver.current_url\n",
    "        driver.get(url)\n",
    "        try:\n",
    "            test = driver.find_element_by_xpath('//*[@id=\"root\"]/main/div[2]/div[2]/section[2]')\n",
    "            if all(word in test.text.lower() for word in Skillset):\n",
    "                Title = driver.find_element_by_xpath('//*[@id=\"root\"]/main/div[2]/div[2]/section[1]/div[1]/div[1]/header/h1')\n",
    "                Title = Title.text\n",
    "                Title = pd.Series(Title)\n",
    "                Company = driver.find_element_by_xpath('//*[@id=\"root\"]/main/div[2]/div[2]/section[1]/div[1]/div[1]/div/a[1]')\n",
    "                Company = Company.text\n",
    "                Company = pd.Series(Company)\n",
    "                loc = driver.find_element_by_xpath('//*[@id=\"root\"]/main/div[2]/div[2]/section[1]/div[1]/div[2]/div[3]/span/a')\n",
    "                loc = loc.text\n",
    "                loc = pd.Series(loc)\n",
    "                df = pd.DataFrame({'Title':Title,'Company':Company,'Location':loc})\n",
    "                app = app.append(df)\n",
    "                driver.find_element_by_xpath('//*[@id=\"root\"]/main/div[2]/div[2]/section[1]/div[1]/div[3]/div/button[2]').click()\n",
    "                time.sleep(2)\n",
    "                driver.close()\n",
    "                driver.switch_to.window(driver.window_handles[0])\n",
    "            else:\n",
    "                driver.close()\n",
    "                driver.switch_to.window(driver.window_handles[0])\n",
    "        except:\n",
    "            driver.close()\n",
    "            driver.switch_to.window(driver.window_handles[0])\n",
    "app"
   ]
  },
  {
   "cell_type": "code",
   "execution_count": null,
   "metadata": {
    "scrolled": true
   },
   "outputs": [],
   "source": [
    "print(str(len(app))+\" applications done in %s seconds\" % (time.time() - start_time))"
   ]
  }
 ],
 "metadata": {
  "kernelspec": {
   "display_name": "Python 3",
   "language": "python",
   "name": "python3"
  },
  "language_info": {
   "codemirror_mode": {
    "name": "ipython",
    "version": 3
   },
   "file_extension": ".py",
   "mimetype": "text/x-python",
   "name": "python",
   "nbconvert_exporter": "python",
   "pygments_lexer": "ipython3",
   "version": "3.7.6"
  }
 },
 "nbformat": 4,
 "nbformat_minor": 4
}
